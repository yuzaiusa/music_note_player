{
 "cells": [
  {
   "cell_type": "code",
   "execution_count": 1,
   "id": "108508de-f51d-4d83-810c-54024a6ebded",
   "metadata": {},
   "outputs": [
    {
     "data": {
      "text/plain": [
       "'ready'"
      ]
     },
     "execution_count": 1,
     "metadata": {},
     "output_type": "execute_result"
    }
   ],
   "source": [
    "%load_ext autoreload\n",
    "%autoreload 2\n",
    "    \n",
    "import numpy as np\n",
    "import pyaudio\n",
    "\n",
    "'ready'"
   ]
  },
  {
   "cell_type": "markdown",
   "id": "e80f4f55-bcd8-4832-b069-e5c66d894225",
   "metadata": {},
   "source": [
    "# Exercise 1a"
   ]
  },
  {
   "cell_type": "code",
   "execution_count": 60,
   "id": "5ce6b4ae-c9fe-4dd1-884c-b05326a077ad",
   "metadata": {},
   "outputs": [],
   "source": [
    "from helper_functions import start_play, stop_play, play_frequency\n",
    "from time import sleep\n",
    "\n",
    "C4 = 261.63\n",
    "G4 = 392.0\n",
    "A4 = 440\n",
    "\n",
    "stream = start_play(sample_rate=44100)\n",
    "\n",
    "breath = 0.5\n",
    "play_frequency(stream, frequency=C4, duration=1.0-breath, sample_rate=44100, amplitude=1.0)\n",
    "sleep(breath)\n",
    "play_frequency(stream, frequency=C4, duration=1.0-breath, sample_rate=44100, amplitude=1.0)\n",
    "sleep(breath)\n",
    "play_frequency(stream, frequency=G4, duration=1.0-breath, sample_rate=44100, amplitude=1.0)\n",
    "sleep(breath)\n",
    "play_frequency(stream, frequency=G4, duration=1.0-breath, sample_rate=44100, amplitude=1.0)\n",
    "sleep(breath)\n",
    "play_frequency(stream, frequency=A4, duration=1.0-breath, sample_rate=44100, amplitude=1.0)\n",
    "sleep(breath)\n",
    "play_frequency(stream, frequency=A4, duration=1.0-breath, sample_rate=44100, amplitude=1.0)\n",
    "sleep(breath)\n",
    "play_frequency(stream, frequency=G4, duration=2.0-breath, sample_rate=44100, amplitude=1.0)\n",
    "\n",
    "stop_play(stream)"
   ]
  },
  {
   "cell_type": "code",
   "execution_count": 22,
   "id": "001d370d-5d92-4158-a826-ec531cf7b264",
   "metadata": {},
   "outputs": [],
   "source": [
    "D4 = 293.66\n",
    "A4 = 440.0\n",
    "B4 = 493.88\n",
    "\n",
    "stream = start_play(sample_rate=44100)\n",
    "\n",
    "breath = 0.5\n",
    "play_frequency(stream, frequency=D4, duration=1.0-breath, sample_rate=44100, amplitude=1.0)\n",
    "sleep(breath)\n",
    "play_frequency(stream, frequency=D4, duration=1.0-breath, sample_rate=44100, amplitude=1.0)\n",
    "sleep(breath)\n",
    "play_frequency(stream, frequency=A4, duration=1.0-breath, sample_rate=44100, amplitude=1.0)\n",
    "sleep(breath)\n",
    "play_frequency(stream, frequency=A4, duration=1.0-breath, sample_rate=44100, amplitude=1.0)\n",
    "sleep(breath)\n",
    "play_frequency(stream, frequency=B4, duration=1.0-breath, sample_rate=44100, amplitude=1.0)\n",
    "sleep(breath)\n",
    "play_frequency(stream, frequency=B4, duration=1.0-breath, sample_rate=44100, amplitude=1.0)\n",
    "sleep(breath)\n",
    "play_frequency(stream, frequency=A4, duration=2.0-breath, sample_rate=44100, amplitude=1.0)\n",
    "\n",
    "stop_play(stream)"
   ]
  },
  {
   "cell_type": "markdown",
   "id": "df435082-764b-4c3e-aaba-fa58e6a5fe69",
   "metadata": {},
   "source": [
    "# Exercise 1b and 1c"
   ]
  },
  {
   "cell_type": "code",
   "execution_count": 48,
   "id": "3e644ede-f21b-4842-929c-3f058b20e392",
   "metadata": {},
   "outputs": [
    {
     "data": {
      "text/plain": [
       "'ready'"
      ]
     },
     "execution_count": 48,
     "metadata": {},
     "output_type": "execute_result"
    }
   ],
   "source": [
    "from helper_functions import start_play, stop_play, play_frequency\n",
    "from time import sleep\n",
    "from exercise1b import piano_note_frequencies\n",
    "\n",
    "freq_map = piano_note_frequencies()\n",
    "\n",
    "def play_note(stream: pyaudio.Stream, note: str, length: float, tempo: int, sample_rate: int = 44100, amplitude: float = 1.0, pause_fraction: float = 0.5, max_pause_duration: float = 0.5):\n",
    "    \"\"\"\n",
    "    Play a piano note given a set of parameters\n",
    "    :param stream: PyAudio stream object\n",
    "    :param note: Note to be played (e.g., 'C4', 'D#5', 'Bb3')\n",
    "    :param length: Duration of the note in beats (e.g., 1.0 for a quarter note, 0.5 for an eighth note)\n",
    "    :param tempo: Tempo in beats per minute (BPM) for a quarter note\n",
    "    :param sample_rate: Samples per second (44100 is the default audio sample rate)\n",
    "    :param amplitude: Amplitude of the sound wave (0.0 to 1.0), 1.0 is the default amplitude\n",
    "    :pause_fraction: a fraction of the note length to use as the pause duration (default 0.1)\n",
    "    :max_pause_duration: a maximum duration for the pause (default 0.5 seconds)\n",
    "    :return: None\n",
    "    \"\"\"\n",
    "    duration = length*60.0/tempo\n",
    "    pause = min(max_pause_duration, duration * pause_fraction)\n",
    "    adjusted_duration = duration - pause\n",
    "    if note not in freq_map:\n",
    "        if note == \"R\":\n",
    "            frequency = 0\n",
    "        else:\n",
    "            raise ValueError(f\"Invalid music note symbol: {note}\")\n",
    "    else:\n",
    "        frequency = freq_map[note]\n",
    "    play_frequency(stream, frequency, adjusted_duration, sample_rate, amplitude)\n",
    "    sleep(pause)\n",
    "    return\n",
    "'ready'"
   ]
  },
  {
   "cell_type": "code",
   "execution_count": 61,
   "id": "3c327204-f18d-41b6-b80f-29d4b4cd07ca",
   "metadata": {},
   "outputs": [
    {
     "data": {
      "text/plain": [
       "'done'"
      ]
     },
     "execution_count": 61,
     "metadata": {},
     "output_type": "execute_result"
    }
   ],
   "source": [
    "# test\n",
    "stream = start_play(sample_rate=44100)\n",
    "\n",
    "tempo = 90\n",
    "\n",
    "play_note(stream, \"D4\", 1.0, tempo)\n",
    "play_note(stream, \"D4\", 1.0, tempo)\n",
    "play_note(stream, \"A4\", 1.0, tempo)\n",
    "play_note(stream, \"A4\", 1.0, tempo)\n",
    "play_note(stream, \"B4\", 1.0, tempo)\n",
    "play_note(stream, \"B4\", 1.0, tempo)\n",
    "play_note(stream, \"A4\", 2.0, tempo)\n",
    "stop_play(stream)\n",
    "'done'"
   ]
  },
  {
   "cell_type": "code",
   "execution_count": 62,
   "id": "d94734d4-03d2-4d65-b295-f546c141c011",
   "metadata": {},
   "outputs": [
    {
     "data": {
      "text/plain": [
       "'done'"
      ]
     },
     "execution_count": 62,
     "metadata": {},
     "output_type": "execute_result"
    }
   ],
   "source": [
    "stream = start_play(sample_rate=44100)\n",
    "\n",
    "tempo = 90\n",
    "notes = [\"D4\",\"D4\",\"A4\",\"A4\",\"B4\",\"B4\",\"A4\",\n",
    "         \"G4\",\"G4\",\"F#4\",\"F#4\",\"E4\",\"E4\",\"D4\",\n",
    "         \"A4\",\"A4\",\"G4\",\"G4\",\"F#4\",\"F#4\",\"E4\",\n",
    "         \"A4\",\"A4\",\"G4\",\"G4\",\"F#4\",\"F#4\",\"E4\",\n",
    "         \"D4\",\"D4\",\"A4\",\"A4\",\"B4\",\"B4\",\"A4\",\n",
    "         \"G4\",\"G4\",\"F#4\",\"F#4\",\"E4\",\"E4\",\"D4\",\n",
    "        ]\n",
    "lengths = [1,1,1,1,1,1,2,\n",
    "           1,1,1,1,1,1,2,\n",
    "           1,1,1,1,1,1,2,\n",
    "           1,1,1,1,1,1,2,\n",
    "           1,1,1,1,1,1,2,\n",
    "           1,1,1,1,1,1,2,\n",
    "          ]\n",
    "\n",
    "for note, length in zip(notes, lengths):\n",
    "    play_note(stream, note, length, tempo)\n",
    "\n",
    "stop_play(stream)\n",
    "'done'"
   ]
  },
  {
   "cell_type": "markdown",
   "id": "a1901009-62b0-4250-8ff5-439a9a739220",
   "metadata": {},
   "source": [
    "# Exercise 2a"
   ]
  },
  {
   "cell_type": "code",
   "execution_count": 17,
   "id": "7cd43691-8de3-4feb-9968-4f57952125b9",
   "metadata": {},
   "outputs": [
    {
     "data": {
      "text/plain": [
       "'ready'"
      ]
     },
     "execution_count": 17,
     "metadata": {},
     "output_type": "execute_result"
    }
   ],
   "source": [
    "import pyaudio\n",
    "def play_score(stream: pyaudio.Stream, score: str, tempo: int):\n",
    "    \"\"\"\n",
    "    Play a score given a set of parameters\n",
    "    :param stream: PyAudio stream object\n",
    "    :param score: Score string in the format \"<note1>/<length1>,<note2>/<length2>, ..., <noteN>/<lengthN>\"\n",
    "    :param tempo: Tempo in beats per minute (BPM) for a quarter note\n",
    "    :return: None\n",
    "    \"\"\"\n",
    "    for pair in score.split(\",\"):\n",
    "        try:\n",
    "            note, length = pair.split(\"/\")\n",
    "        except:\n",
    "            raise ValueError(f\"cannot parse {pair}\")\n",
    "        play_note(stream, note, float(length), tempo)\n",
    "    return\n",
    "'ready'"
   ]
  },
  {
   "cell_type": "code",
   "execution_count": 63,
   "id": "058b79e1-60c5-476a-a3fd-d5fb3687f8bd",
   "metadata": {},
   "outputs": [],
   "source": [
    "stream = start_play(sample_rate=44100)\n",
    "tempo = 60\n",
    "score = \"A4/0.25,B4/0.25,C5/0.75,B4/0.25,C5/0.5,E5/0.5,B4/1.5,E4/0.5,A4/0.75,G4/0.25,A4/0.5,C5/0.5,G4/1.5,E4/0.5,F4/0.75,E4/0.25,F4/0.5,C5/0.5,E4/1.5,C5/0.25,C5/0.25,B4/0.75,F#4/0.25,F#4/0.5,B4/0.5,B4/1,R/0.5\"\n",
    "play_score(stream, score, tempo)\n",
    "stop_play(stream)"
   ]
  },
  {
   "cell_type": "code",
   "execution_count": 55,
   "id": "a641ec10-1e02-43d4-857b-c353ee8889ef",
   "metadata": {},
   "outputs": [],
   "source": [
    "stream = start_play(sample_rate=44100)\n",
    "tempo = 60\n",
    "score = []\n",
    "score.append(\"A4/0.25,B4/0.25,C5/0.75,B4/0.25,C5/0.5,E5/0.5,B4/1.5,E4/0.5,A4/0.75,G4/0.25,A4/0.5,C5/0.5,G4/1.5,E4/0.5,F4/0.75,E4/0.25,F4/0.5,C5/0.5,E4/1.5,C5/0.25,C5/0.25,B4/0.75,F#4/0.25,F#4/0.5,B4/0.5,B4/1,R/0.5\")\n",
    "score.append(\"A4/0.25,B4/0.25,C5/0.75,B4/0.25,C5/0.5,E5/0.5,B4/1.5,E4/0.5,A4/0.75,G4/0.25,A4/0.5,C5/0.5,G4/1.5,E4/0.5,F4/0.5,C5/0.25,B4/0.75,C5/0.5,D5/0.5,E5/0.25,C5/1.25,C5/0.25,B4/0.25,A4/0.5,B4/0.5,G#4/0.5,A4/2,R/0.5\")\n",
    "score.append(\"C5/0.25,D5/0.25,E5/0.75,D5/0.25,E5/0.5,G5/0.5,D5/1.5,G4/0.5,C5/0.75,B4/0.25,C5/0.5,E5/0.5,E5/2\")\n",
    "score.append(\"A4/0.25,B4/0.25,C5/0.5,B4/0.25,C5/0.25,D5/0.5,C5/0.75,G4/0.25,G4/1,F5/0.5,E5/0.5,D5/0.5,C5/0.5,E5/2.5\")\n",
    "score.append(\"E5/0.5,A5/1,G5/1,E5/0.5,D5/0.25,C5/1.25,D5/0.5,C5/0.25,D5/0.75,G5/0.5,E5/1.5\")\n",
    "score.append(\"E5/0.5,A5/1,G5/1,E5/0.5,D5/0.25,C5/1.25,D5/0.5,C5/0.25,D5/0.75,B4/0.5,A4/1.0,R/0.5\")\n",
    "score.append(\"A4/0.25,B4/0.25,C5/0.75,B4/0.25,C5/0.5,E5/0.5,B4/1.5,E4/0.5,A4/0.75,G4/0.25,A4/0.5,C5/0.5,G4/1.5,E4/0.5,F4/0.5,C5/0.25,B4/0.75,C5/0.5,D5/0.5,E5/0.25,C5/1.25,C5/0.375,B4/0.375,A4/1,B4/1,G#4/1,A4/4\")\n",
    "play_score(stream, \",\".join(score), tempo)\n",
    "stop_play(stream)"
   ]
  },
  {
   "cell_type": "markdown",
   "id": "042b6ccd-6462-41d0-baf8-5fc1c0ba7135",
   "metadata": {},
   "source": [
    "# Exercise 2b"
   ]
  },
  {
   "cell_type": "code",
   "execution_count": 64,
   "id": "c8d99f3b-578b-4ec3-b642-d58914db6eb2",
   "metadata": {},
   "outputs": [
    {
     "name": "stdout",
     "output_type": "stream",
     "text": [
      "title: Guess what this song is\n",
      "tempo: 60\n",
      "score: A4/0.25,B4/0.25,C5/0.75,B4/0.25,C5/0.5,E5/0.5,B4/1.5,E4/0.5,A4/0.75,G4/0.25,A4/0.5,C5/0.5,G4/1.5,E4/0.5,F4/0.75,E4/0.25,F4/0.5,C5/0.5,E4/1.5,C5/0.25,C5/0.25,B4/0.75,F#4/0.25,F#4/0.5,B4/0.5,B4/1,R/0.5,A4/0.25,B4/0.25,C5/0.75,B4/0.25,C5/0.5,E5/0.5,B4/1.5,E4/0.5,A4/0.75,G4/0.25,A4/0.5,C5/0.5,G4/1.5,E4/0.5,F4/0.5,C5/0.25,B4/0.75,C5/0.5,D5/0.5,E5/0.25,C5/1.25,C5/0.25,B4/0.25,A4/0.5,B4/0.5,G#4/0.5,A4/2,R/0.5,C5/0.25,D5/0.25,E5/0.75,D5/0.25,E5/0.5,G5/0.5,D5/1.5,G4/0.5,C5/0.75,B4/0.25,C5/0.5,E5/0.5,E5/2,A4/0.25,B4/0.25,C5/0.5,B4/0.25,C5/0.25,D5/0.5,C5/0.75,G4/0.25,G4/1,F5/0.5,E5/0.5,D5/0.5,C5/0.5,E5/2.5,E5/0.5,A5/1,G5/1,E5/0.5,D5/0.25,C5/1.25,D5/0.5,C5/0.25,D5/0.75,G5/0.5,E5/1.5,E5/0.5,A5/1,G5/1,E5/0.5,D5/0.25,C5/1.25,D5/0.5,C5/0.25,D5/0.75,B4/0.5,A4/1.0,R/0.5,A4/0.25,B4/0.25,C5/0.75,B4/0.25,C5/0.5,E5/0.5,B4/1.5,E4/0.5,A4/0.75,G4/0.25,A4/0.5,C5/0.5,G4/1.5,E4/0.5,F4/0.5,C5/0.25,B4/0.75,C5/0.5,D5/0.5,E5/0.25,C5/1.25,C5/0.375,B4/0.375,A4/1,B4/1,G#4/1,A4/4\n"
     ]
    }
   ],
   "source": [
    "stream = start_play()\n",
    "filename = \"sample_score.txt\"\n",
    "title = None\n",
    "tempo = None\n",
    "score = None\n",
    "with open(filename, \"r\") as fh:\n",
    "    for line in fh:\n",
    "        if line.startswith(\"title\"):\n",
    "            title = line.split(\":\")[1].strip()\n",
    "            print(f\"title: {title}\")\n",
    "        elif line.startswith(\"tempo\"):\n",
    "            tempo = int(line.split(\":\")[1].strip())\n",
    "            print(f\"tempo: {tempo}\")\n",
    "        elif line.startswith(\"score\"):\n",
    "            score = line.split(\":\")[1].strip()\n",
    "            print(f\"score: {score}\")\n",
    "            play_score(stream, score, tempo=tempo)\n",
    "        else:\n",
    "            print(f\"Cannot parse line: {line}\")\n",
    "stop_play(stream)"
   ]
  },
  {
   "cell_type": "markdown",
   "id": "7a0b5443-99a8-473c-ad00-3c749320b052",
   "metadata": {},
   "source": [
    "# Exercise 3a"
   ]
  },
  {
   "cell_type": "code",
   "execution_count": 2,
   "id": "bca5ef5e-e5f4-492d-80be-3c22ee4aa883",
   "metadata": {},
   "outputs": [
    {
     "data": {
      "text/plain": [
       "'ready'"
      ]
     },
     "execution_count": 2,
     "metadata": {},
     "output_type": "execute_result"
    }
   ],
   "source": [
    "from contextlib import AbstractContextManager\n",
    "from exercise1b import piano_note_frequencies\n",
    "import pyaudio\n",
    "from time import sleep\n",
    "from typing import Dict, List, Optional, Union\n",
    "\n",
    "from helper_functions import start_play, stop_play, play_frequency\n",
    "\n",
    "# AbstractContextManager helps provide convenient functions for resource management\n",
    "class MusicNotePlayer(AbstractContextManager):\n",
    "    def __init__(self, tempo: int = 60, sample_rate: float = 44100, amplitude: float = 1.0, pause_fraction: float = 0.5, max_pause_duration: float = 0.5):\n",
    "        self.tempo = tempo\n",
    "        self.sample_rate = sample_rate\n",
    "        self.amplitude = amplitude\n",
    "        self.pause_fraction = pause_fraction\n",
    "        self.max_pause_duration = max_pause_duration\n",
    "\n",
    "        # initialize freq_map\n",
    "        self.freq_map = piano_note_frequencies()\n",
    "        # add rest note\n",
    "        self.freq_map[\"R\"] = 0\n",
    "\n",
    "        # initialize internal cache\n",
    "        self.cache = []\n",
    "\n",
    "        # The rest part of __init__ is for resource managing. Please don't modify\n",
    "        self._closed = True\n",
    "        self.start()\n",
    "\n",
    "    def set_tempo(self, tempo: int):\n",
    "        self.tempo = tempo\n",
    "\n",
    "    def play_note(self, note: str, length: float):\n",
    "        \"\"\"\n",
    "        Play a piano note given a set of parameters\n",
    "        :param note: Note to be played (e.g., 'C4', 'D#5', 'Bb3')\n",
    "        :param length: Duration of the note in beats (e.g., 1.0 for a quarter note, 0.5 for an eighth note)\n",
    "        \"\"\"\n",
    "        duration = length*60.0/self.tempo\n",
    "        pause = min(self.max_pause_duration, duration * self.pause_fraction)\n",
    "        adjusted_duration = duration - pause\n",
    "        if note not in self.freq_map:\n",
    "            raise ValueError(f\"Invalid music note symbol: {note}\")\n",
    "        else:\n",
    "            frequency = self.freq_map[note]\n",
    "        # check if stream is alive\n",
    "        if self._closed:\n",
    "            self.start()\n",
    "        play_frequency(self.stream, frequency, adjusted_duration, self.sample_rate, self.amplitude)\n",
    "        sleep(pause)\n",
    "        \n",
    "    def play_score(self, score: str):\n",
    "        for pair in score.split(\",\"):\n",
    "            try:\n",
    "                note, length = pair.split(\"/\")\n",
    "            except:\n",
    "                raise ValueError(f\"cannot parse {pair}\")\n",
    "            self.play_note(note, float(length))\n",
    "\n",
    "    def play_score_file(self, filename: str, reset_tempo: bool = False):\n",
    "        title = None\n",
    "        tempo = None\n",
    "        score = None\n",
    "        with open(filename, \"r\") as fh:\n",
    "            for line in fh:\n",
    "                if line.startswith(\"title\"):\n",
    "                    title = line.split(\":\")[1].strip()\n",
    "                    print(f\"title: {title}\")\n",
    "                elif line.startswith(\"tempo\"):\n",
    "                    tempo = int(line.split(\":\")[1].strip())\n",
    "                    if tempo == self.tempo:\n",
    "                        print(f\"tempo {tempo}\")\n",
    "                    elif reset_tempo:\n",
    "                        print(f\"tempo is reset from {self.tempo} to {tempo}\")\n",
    "                        self.tempo = tempo\n",
    "                    else:\n",
    "                        print(f\"ignore tempo {tempo}, keep using tempo {self.tempo}\")\n",
    "                elif line.startswith(\"score\"):\n",
    "                    score = line.split(\":\")[1].strip()\n",
    "                    print(f\"score: {score}\")\n",
    "                    self.play_score(score)\n",
    "                else:\n",
    "                    print(f\"Cannot parse line: {line}\")\n",
    "                    \n",
    "    def add_score(self, score: str):\n",
    "        self.cache.append(score)\n",
    "        print(f\"Added to cache: {score}\")\n",
    "        \n",
    "    def add_score_file(self, filename: str):\n",
    "        with open(filename, \"r\") as fh:\n",
    "            for line in fh:\n",
    "                if line.startswith(\"score\"):\n",
    "                    score = line.split(\":\")[1].strip()\n",
    "                    self.cache.append(score)\n",
    "                    print(f\"Added to cache: {score}\")\n",
    "                else:\n",
    "                    pass\n",
    "        \n",
    "    def undo_add_score(self):\n",
    "        try:\n",
    "            score = self.cache.pop()\n",
    "            print(f\"Removed from cache: {score}\")\n",
    "        except IndexError:\n",
    "            print(\"There is nothing to be removed\")\n",
    "        \n",
    "    def get_scores(self) -> str:\n",
    "        return \",\".join(self.cache)\n",
    "        \n",
    "    def replay(self):\n",
    "        if len(self.cache) > 0:\n",
    "            self.play_score(self.get_scores())\n",
    "        else:\n",
    "            print(f\"There is nothing to play!\")\n",
    "        \n",
    "    def reset(self):\n",
    "        print(f\"Internal cache is reset\")\n",
    "        self.cache = []\n",
    "    \n",
    "    # The rest is for resource managing. Please don't modify\n",
    "    def start(self):\n",
    "        # don't start twice\n",
    "        if self._closed:\n",
    "            self.p = pyaudio.PyAudio()\n",
    "            self.stream = self.p.open(format=pyaudio.paFloat32, # Use float32 format for audio data\n",
    "                                    channels=1,               # Mono audio\n",
    "                                    rate=self.sample_rate,         # Set up the sample rate\n",
    "                                    output=True)\n",
    "            self._closed = False\n",
    "        \n",
    "    def close(self):\n",
    "        # don't close twice\n",
    "        if self._closed:\n",
    "            return\n",
    "\n",
    "        self.stream.stop_stream()\n",
    "        self.stream.close()\n",
    "        self.p.terminate()\n",
    "        self._closed = True\n",
    "\n",
    "    def __exit__(self, exc_type, exc, tb):\n",
    "        self.close()\n",
    "        return False  # don’t suppress exceptions\n",
    "\n",
    "'ready'"
   ]
  },
  {
   "cell_type": "code",
   "execution_count": 24,
   "id": "8055af35-f2d5-4882-98e1-1fad518a49a4",
   "metadata": {},
   "outputs": [
    {
     "name": "stdout",
     "output_type": "stream",
     "text": [
      "title: Guess what this song is\n",
      "tempo 60\n",
      "score: A4/0.25,B4/0.25,C5/0.75,B4/0.25,C5/0.5,E5/0.5,B4/1.5,E4/0.5,A4/0.75,G4/0.25,A4/0.5,C5/0.5,G4/1.5,E4/0.5,F4/0.75,E4/0.25,F4/0.5,C5/0.5,E4/1.5,C5/0.25,C5/0.25,B4/0.75,F#4/0.25,F#4/0.5,B4/0.5,B4/1,R/0.5,A4/0.25,B4/0.25,C5/0.75,B4/0.25,C5/0.5,E5/0.5,B4/1.5,E4/0.5,A4/0.75,G4/0.25,A4/0.5,C5/0.5,G4/1.5,E4/0.5,F4/0.5,C5/0.25,B4/0.75,C5/0.5,D5/0.5,E5/0.25,C5/1.25,C5/0.25,B4/0.25,A4/0.5,B4/0.5,G#4/0.5,A4/2,R/0.5,C5/0.25,D5/0.25,E5/0.75,D5/0.25,E5/0.5,G5/0.5,D5/1.5,G4/0.5,C5/0.75,B4/0.25,C5/0.5,E5/0.5,E5/2,A4/0.25,B4/0.25,C5/0.5,B4/0.25,C5/0.25,D5/0.5,C5/0.75,G4/0.25,G4/1,F5/0.5,E5/0.5,D5/0.5,C5/0.5,E5/2.5,E5/0.5,A5/1,G5/1,E5/0.5,D5/0.25,C5/1.25,D5/0.5,C5/0.25,D5/0.75,G5/0.5,E5/1.5,E5/0.5,A5/1,G5/1,E5/0.5,D5/0.25,C5/1.25,D5/0.5,C5/0.25,D5/0.75,B4/0.5,A4/1.0,R/0.5,A4/0.25,B4/0.25,C5/0.75,B4/0.25,C5/0.5,E5/0.5,B4/1.5,E4/0.5,A4/0.75,G4/0.25,A4/0.5,C5/0.5,G4/1.5,E4/0.5,F4/0.5,C5/0.25,B4/0.75,C5/0.5,D5/0.5,E5/0.25,C5/1.25,C5/0.375,B4/0.375,A4/1,B4/1,G#4/1,A4/4\n"
     ]
    }
   ],
   "source": [
    "filename = \"sample_score.txt\"\n",
    "with MusicNotePlayer(tempo=60) as p:\n",
    "    p.play_score_file(filename)"
   ]
  },
  {
   "cell_type": "code",
   "execution_count": 21,
   "id": "d78e04ef-efbb-4802-8a2d-a678ca3547f6",
   "metadata": {},
   "outputs": [
    {
     "data": {
      "text/plain": [
       "'ready'"
      ]
     },
     "execution_count": 21,
     "metadata": {},
     "output_type": "execute_result"
    }
   ],
   "source": [
    "with MusicNotePlayer(tempo=60) as p:\n",
    "    p.add_score(\"A4/0.25,B4/0.25,C5/0.75,B4/0.25,C5/0.5,E5/0.5,B4/1.5\")\n",
    "    p.replay()\n",
    "    p.add_score(\"A4/0.25,B4/0.25,C5/0.75,B4/0.25,C5/0.5,E5/0.5,B4/1.5,E4/0.5,A4/0.75,G4/0.25,A4/0.5,C5/0.5,G4/1.5,E4/0.5,F4/0.5,C5/0.25,B4/0.75,C5/0.5,D5/0.5,E5/0.25,C5/1.25,C5/0.375,B4/0.375,A4/1,B4/1,G#4/1,A4/4\")\n",
    "    p.replay()\n",
    "    print(p.get_scores())\n",
    "    p.undo_add_score()\n",
    "    p.replay()\n",
    "    p.reset()\n",
    "    p.close()\n",
    "'all done'"
   ]
  },
  {
   "cell_type": "markdown",
   "id": "175e4f29-f190-4fa3-b2a8-f76a8b6c2765",
   "metadata": {},
   "source": [
    "# Exercise 3b"
   ]
  },
  {
   "cell_type": "code",
   "execution_count": 3,
   "id": "6cfab8cf-1011-4f39-b8b4-17587d2c68e5",
   "metadata": {},
   "outputs": [
    {
     "data": {
      "text/plain": [
       "'ready'"
      ]
     },
     "execution_count": 3,
     "metadata": {},
     "output_type": "execute_result"
    }
   ],
   "source": [
    "import json\n",
    "\n",
    "class MusicNotePlayerWithSave(MusicNotePlayer):\n",
    "    def to_json(self, filename: str):\n",
    "        # build the dict to save to json\n",
    "        dump_dict = {\"tempo\": self.tempo, \"sample_rate\":self.sample_rate, \"amplitude\": self.amplitude,\n",
    "                    \"pause_fraction\": self.pause_fraction, \"max_pause_duration\": self.max_pause_duration,\n",
    "                    \"cache\": self.cache}\n",
    "        with open(filename, \"w\") as json_file:\n",
    "            json.dump(dump_dict, json_file)\n",
    "        print(f\"Successfully written to {filename}\")\n",
    "\n",
    "    def from_json(self, filename: str):\n",
    "        with open(filename, \"r\") as json_file:\n",
    "            dump_dict = json.load(json_file)\n",
    "        self.tempo = dump_dict[\"tempo\"] \n",
    "        self.sample_rate =  dump_dict[\"sample_rate\"]\n",
    "        self.amplitude = dump_dict[\"amplitude\"]\n",
    "        self.pause_fraction = dump_dict[\"pause_fraction\"]\n",
    "        self.max_pause_duration = dump_dict[\"max_pause_duration\"]\n",
    "        self.cache = dump_dict[\"cache\"]\n",
    "        print(f\"Successfully written to {filename}\")\n",
    "'ready'"
   ]
  },
  {
   "cell_type": "code",
   "execution_count": 28,
   "id": "8c479cb7-7e2f-453a-8aeb-c4690c9596dc",
   "metadata": {},
   "outputs": [
    {
     "name": "stdout",
     "output_type": "stream",
     "text": [
      "Added to cache: A4/0.25,B4/0.25,C5/0.75,B4/0.25,C5/0.5,E5/0.5,B4/1.5,E4/0.5,A4/0.75,G4/0.25,A4/0.5,C5/0.5,G4/1.5,E4/0.5,F4/0.75,E4/0.25,F4/0.5,C5/0.5,E4/1.5,C5/0.25,C5/0.25,B4/0.75,F#4/0.25,F#4/0.5,B4/0.5,B4/1,R/0.5,A4/0.25,B4/0.25,C5/0.75,B4/0.25,C5/0.5,E5/0.5,B4/1.5,E4/0.5,A4/0.75,G4/0.25,A4/0.5,C5/0.5,G4/1.5,E4/0.5,F4/0.5,C5/0.25,B4/0.75,C5/0.5,D5/0.5,E5/0.25,C5/1.25,C5/0.25,B4/0.25,A4/0.5,B4/0.5,G#4/0.5,A4/2,R/0.5,C5/0.25,D5/0.25,E5/0.75,D5/0.25,E5/0.5,G5/0.5,D5/1.5,G4/0.5,C5/0.75,B4/0.25,C5/0.5,E5/0.5,E5/2,A4/0.25,B4/0.25,C5/0.5,B4/0.25,C5/0.25,D5/0.5,C5/0.75,G4/0.25,G4/1,F5/0.5,E5/0.5,D5/0.5,C5/0.5,E5/2.5,E5/0.5,A5/1,G5/1,E5/0.5,D5/0.25,C5/1.25,D5/0.5,C5/0.25,D5/0.75,G5/0.5,E5/1.5,E5/0.5,A5/1,G5/1,E5/0.5,D5/0.25,C5/1.25,D5/0.5,C5/0.25,D5/0.75,B4/0.5,A4/1.0,R/0.5,A4/0.25,B4/0.25,C5/0.75,B4/0.25,C5/0.5,E5/0.5,B4/1.5,E4/0.5,A4/0.75,G4/0.25,A4/0.5,C5/0.5,G4/1.5,E4/0.5,F4/0.5,C5/0.25,B4/0.75,C5/0.5,D5/0.5,E5/0.25,C5/1.25,C5/0.375,B4/0.375,A4/1,B4/1,G#4/1,A4/4\n",
      "Successfully written to sample_save.json\n"
     ]
    },
    {
     "data": {
      "text/plain": [
       "'done'"
      ]
     },
     "execution_count": 28,
     "metadata": {},
     "output_type": "execute_result"
    }
   ],
   "source": [
    "with MusicNotePlayerWithSave(tempo=60) as p:\n",
    "    p.add_score_file(\"sample_score.txt\")\n",
    "    p.to_json(\"sample_save.json\")\n",
    "'done'"
   ]
  },
  {
   "cell_type": "code",
   "execution_count": 32,
   "id": "ecabc6b1-5a6b-42c5-9724-5afc8880da97",
   "metadata": {},
   "outputs": [
    {
     "name": "stdout",
     "output_type": "stream",
     "text": [
      "Successfully written to sample_save.json\n"
     ]
    }
   ],
   "source": [
    "with MusicNotePlayerWithSave(tempo=60) as p:\n",
    "    p.from_json(\"sample_save.json\")\n",
    "    p.replay()"
   ]
  },
  {
   "cell_type": "markdown",
   "id": "623e7564-216d-4a01-98ee-8d10cd690ca7",
   "metadata": {},
   "source": [
    "# Exercise 4a"
   ]
  },
  {
   "cell_type": "code",
   "execution_count": 4,
   "id": "37ef499a-4040-4219-9140-faf840125d6e",
   "metadata": {},
   "outputs": [
    {
     "data": {
      "text/plain": [
       "'ready'"
      ]
     },
     "execution_count": 4,
     "metadata": {},
     "output_type": "execute_result"
    }
   ],
   "source": [
    "def piano_note_rank() -> Dict[str, int]:\n",
    "    sharp = ['A','A#','B','C','C#','D','D#','E','F','F#','G','G#']\n",
    "    flat  = ['A','Bb','B','C','Db','D','Eb','E','F','Gb','G','Ab']\n",
    "\n",
    "    note2rank = {}\n",
    "    rank2note_sharp = []\n",
    "    rank2note_flat = []\n",
    "    for i in range(88):                         # i = 0..87, A0..C8\n",
    "        idx = i % 12\n",
    "        octave = (i + 9) // 12                  # A0→0, C1→1, ..., C8→8\n",
    "        name_sharp = f\"{sharp[idx]}{octave}\"\n",
    "        name_flat  = f\"{flat[idx]}{octave}\"\n",
    "        note2rank[name_sharp] = i\n",
    "        note2rank[name_flat]  = i\n",
    "        rank2note_sharp.append(name_sharp)\n",
    "        rank2note_flat.append(name_flat)\n",
    "    return note2rank, rank2note_sharp, rank2note_flat\n",
    "'ready'"
   ]
  },
  {
   "cell_type": "code",
   "execution_count": 6,
   "id": "af696146-ec5c-4498-a6b1-8abdd69fbd3e",
   "metadata": {},
   "outputs": [
    {
     "data": {
      "text/plain": [
       "'ready'"
      ]
     },
     "execution_count": 6,
     "metadata": {},
     "output_type": "execute_result"
    }
   ],
   "source": [
    "class MusicNotePlayerV2a(MusicNotePlayerWithSave):\n",
    "    def play_score(self, score: str, transpose: int = 0):\n",
    "        note2rank, rank2note_sharp, rank2note_flat = piano_note_rank()\n",
    "        for pair in score.split(\",\"):\n",
    "            try:\n",
    "                note, length = pair.split(\"/\")\n",
    "            except:\n",
    "                raise ValueError(f\"cannot parse {pair}\")\n",
    "            idx = note2rank[note]\n",
    "            idx += transpose\n",
    "            note = rank2note_sharp[idx]\n",
    "            self.play_note(note, float(length))\n",
    "\n",
    "    def replay(self, transpose: int = 0):\n",
    "        if len(self.cache) > 0:\n",
    "            self.play_score(self.get_scores(), transpose)\n",
    "        else:\n",
    "            print(f\"There is nothing to play!\")\n",
    "'ready'"
   ]
  },
  {
   "cell_type": "code",
   "execution_count": 14,
   "id": "edec3568-d3d3-468f-95a5-a940105a14ee",
   "metadata": {},
   "outputs": [
    {
     "name": "stdout",
     "output_type": "stream",
     "text": [
      "Added to cache: A4/0.25,B4/0.25,C5/0.75,B4/0.25,C5/0.5,E5/0.5,B4/1.5\n"
     ]
    },
    {
     "data": {
      "text/plain": [
       "'done'"
      ]
     },
     "execution_count": 14,
     "metadata": {},
     "output_type": "execute_result"
    }
   ],
   "source": [
    "transpose = 3\n",
    "with MusicNotePlayerV2a(tempo=60) as p:\n",
    "    p.add_score(\"A4/0.25,B4/0.25,C5/0.75,B4/0.25,C5/0.5,E5/0.5,B4/1.5\")\n",
    "    p.replay()\n",
    "    sleep(1)\n",
    "    p.replay(transpose=transpose)\n",
    "'done'"
   ]
  },
  {
   "cell_type": "markdown",
   "id": "dad36815-c3f2-4139-81fc-aa8012c2d8db",
   "metadata": {},
   "source": [
    "# Exercise 4b"
   ]
  },
  {
   "cell_type": "code",
   "execution_count": 11,
   "id": "197213e0-6c49-45e2-91b9-d4b7bcdf6f35",
   "metadata": {},
   "outputs": [
    {
     "data": {
      "text/plain": [
       "'ready'"
      ]
     },
     "execution_count": 11,
     "metadata": {},
     "output_type": "execute_result"
    }
   ],
   "source": [
    "class MusicNotePlayerV2b(MusicNotePlayerWithSave):\n",
    "    def play_note(self, note: str, length: float, transpose: int = 0):\n",
    "        duration = length*60.0/self.tempo\n",
    "        pause = min(self.max_pause_duration, duration * self.pause_fraction)\n",
    "        adjusted_duration = duration - pause\n",
    "        if note not in self.freq_map:\n",
    "            raise ValueError(f\"Invalid music note symbol: {note}\")\n",
    "        else:\n",
    "            frequency = self.freq_map[note]\n",
    "        # shift the frequency\n",
    "        frequency *= (2 ** (transpose / 12.0))\n",
    "        # check if stream is alive\n",
    "        if self._closed:\n",
    "            self.start()\n",
    "        play_frequency(self.stream, frequency, adjusted_duration, self.sample_rate, self.amplitude)\n",
    "        sleep(pause)\n",
    "        \n",
    "    def play_score(self, score: str, transpose: int = 0):\n",
    "        for pair in score.split(\",\"):\n",
    "            try:\n",
    "                note, length = pair.split(\"/\")\n",
    "            except:\n",
    "                raise ValueError(f\"cannot parse {pair}\")\n",
    "            self.play_note(note, float(length), transpose)\n",
    "\n",
    "    def replay(self, transpose: int = 0):\n",
    "        if len(self.cache) > 0:\n",
    "            self.play_score(self.get_scores(), transpose)\n",
    "        else:\n",
    "            print(f\"There is nothing to play!\")\n",
    "'ready'"
   ]
  },
  {
   "cell_type": "code",
   "execution_count": 13,
   "id": "cb80a8bd-0977-4258-8337-e67faccd0f85",
   "metadata": {},
   "outputs": [
    {
     "name": "stdout",
     "output_type": "stream",
     "text": [
      "Added to cache: A4/0.25,B4/0.25,C5/0.75,B4/0.25,C5/0.5,E5/0.5,B4/1.5\n"
     ]
    },
    {
     "data": {
      "text/plain": [
       "'done'"
      ]
     },
     "execution_count": 13,
     "metadata": {},
     "output_type": "execute_result"
    }
   ],
   "source": [
    "transpose = 3\n",
    "with MusicNotePlayerV2b(tempo=60) as p:\n",
    "    p.add_score(\"A4/0.25,B4/0.25,C5/0.75,B4/0.25,C5/0.5,E5/0.5,B4/1.5\")\n",
    "    p.replay()\n",
    "    sleep(1)\n",
    "    p.replay(transpose=transpose)\n",
    "'done'"
   ]
  },
  {
   "cell_type": "markdown",
   "id": "80ea0eee-8840-46f5-9fc6-fa6752bbf531",
   "metadata": {},
   "source": [
    "# Exercise 5a"
   ]
  },
  {
   "cell_type": "code",
   "execution_count": 26,
   "id": "3c3c2cfc-5cdd-4216-b0c9-dfd20e1542ea",
   "metadata": {},
   "outputs": [
    {
     "data": {
      "text/plain": [
       "'done'"
      ]
     },
     "execution_count": 26,
     "metadata": {},
     "output_type": "execute_result"
    }
   ],
   "source": [
    "from helper_functions import play_frequency\n",
    "def play_frequencies(stream: pyaudio.Stream, frequencies: List[float], duration: float, sample_rate: int, amplitude: float):\n",
    "    \"\"\"\n",
    "    Play a sound given a set of parameters\n",
    "    :param stream: PyAudio stream object\n",
    "    :param frequencies: A list of frequencies of the sounds in Hertz\n",
    "    :param duration: Duration to play the sound in seconds\n",
    "    :param sample_rate: Samples per second (44100 is the common audio sample rate)\n",
    "    :param amplitude: Amplitude of the sound wave (0.0 to 1.0)\n",
    "    :return: None\n",
    "    \"\"\"\n",
    "    t = np.linspace(0, duration, int(sample_rate * duration), endpoint=False)\n",
    "    # Generate sine wave\n",
    "    # The formula for a sine wave is A * sin(2 * pi * f * t)\n",
    "    # where A is amplitude, f is frequency, and t is time\n",
    "    # initialize the wave with zeros and then add each frequency on top of it\n",
    "    sine_wave = t * 0\n",
    "    for frequency in frequencies:\n",
    "        sine_wave += amplitude * np.sin(2 * np.pi * frequency * t)\n",
    "    stream.write(sine_wave.astype(np.float32).tobytes())\n",
    "\n",
    "D4 = piano_note_frequencies()[\"D4\"]\n",
    "F4 = piano_note_frequencies()[\"F4\"]\n",
    "A4 = piano_note_frequencies()[\"A4\"]\n",
    "\n",
    "stream = start_play(sample_rate=44100)\n",
    "play_frequencies(stream, frequencies=[D4], duration=1.0, sample_rate=44100, amplitude=1.0)\n",
    "sleep(0.5)\n",
    "play_frequencies(stream, frequencies=[D4, F4], duration=1.0, sample_rate=44100, amplitude=1.0)\n",
    "sleep(0.5)\n",
    "play_frequencies(stream, frequencies=[D4, F4, A4], duration=1.0, sample_rate=44100, amplitude=1.0)\n",
    "stop_play(stream)\n",
    "'done'"
   ]
  },
  {
   "cell_type": "markdown",
   "id": "fd0b4bed-667f-417f-b306-f7a6e212785d",
   "metadata": {},
   "source": [
    "# Exercise 5b"
   ]
  },
  {
   "cell_type": "code",
   "execution_count": 32,
   "id": "ed97b4eb-a90c-4df1-a1e5-ee35a1ababeb",
   "metadata": {},
   "outputs": [],
   "source": [
    "from typing import Callable, Dict, List, Optional, Union\n",
    "\n",
    "def play_frequencies(stream: pyaudio.Stream, frequencies: List[float], duration: float, sample_rate: int, amplitude: float, wave_func: Callable):\n",
    "    \"\"\"\n",
    "    Play a sound given a set of parameters\n",
    "    :param stream: PyAudio stream object\n",
    "    :param frequencies: A list of frequencies of the sounds in Hertz\n",
    "    :param duration: Duration to play the sound in seconds\n",
    "    :param sample_rate: Samples per second (44100 is the common audio sample rate)\n",
    "    :param amplitude: Amplitude of the sound wave (0.0 to 1.0)\n",
    "    :param wave_func: the wave function object that takes in frequency and time grids, \n",
    "        returns wave as a list of float.\n",
    "    :return: None\n",
    "    \"\"\"\n",
    "    t = np.linspace(0, duration, int(sample_rate * duration), endpoint=False)\n",
    "    # Generate wave\n",
    "    # initialize the wave with zeros and then add each frequency on top of it\n",
    "    wave = t * 0\n",
    "    for frequency in frequencies:\n",
    "        wave += amplitude * wave_func(frequency, t)\n",
    "    stream.write(wave.astype(np.float32).tobytes())\n",
    "\n",
    "def sine_wave(frequency: float, t: List[float]) -> List[float]:\n",
    "    # The formula for a sine wave is sin(2 * pi * f * t)\n",
    "    # where f is frequency, and t is time\n",
    "    return np.sin(2 * np.pi * frequency * t)\n",
    "\n",
    "def box_wave(frequency: float, t: List[float]) -> List[float]:\n",
    "    # The formula for a sine wave is sin(2 * pi * f * t)\n",
    "    # where f is frequency, and t is time\n",
    "    return np.floor(np.sin(2 * np.pi * frequency * t)+1)\n",
    "\n",
    "D4 = piano_note_frequencies()[\"D4\"]\n",
    "F4 = piano_note_frequencies()[\"F4\"]\n",
    "A4 = piano_note_frequencies()[\"A4\"]\n",
    "\n",
    "stream = start_play(sample_rate=44100)\n",
    "play_frequencies(stream, frequencies=[D4], duration=1.0, sample_rate=44100, amplitude=1.0, wave_func=sine_wave)\n",
    "sleep(0.5)\n",
    "play_frequencies(stream, frequencies=[D4, F4], duration=1.0, sample_rate=44100, amplitude=1.0, wave_func=sine_wave)\n",
    "sleep(0.5)\n",
    "play_frequencies(stream, frequencies=[D4, F4, A4], duration=1.0, sample_rate=44100, amplitude=1.0, wave_func=sine_wave)\n",
    "sleep(0.5)\n",
    "play_frequencies(stream, frequencies=[D4], duration=1.0, sample_rate=44100, amplitude=1.0, wave_func=box_wave)\n",
    "sleep(0.5)\n",
    "play_frequencies(stream, frequencies=[D4, F4], duration=1.0, sample_rate=44100, amplitude=1.0, wave_func=box_wave)\n",
    "sleep(0.5)\n",
    "play_frequencies(stream, frequencies=[D4, F4, A4], duration=1.0, sample_rate=44100, amplitude=1.0, wave_func=box_wave)\n",
    "stop_play(stream)"
   ]
  },
  {
   "cell_type": "markdown",
   "id": "437b9576-18b5-47f7-8337-0c0a3854d5c2",
   "metadata": {},
   "source": [
    "# Exercise 5c"
   ]
  },
  {
   "cell_type": "code",
   "execution_count": 51,
   "id": "9a64a811-9fc5-4d3a-8eb0-ab76b26c6077",
   "metadata": {},
   "outputs": [],
   "source": [
    "from exercise1b import piano_note_frequencies\n",
    "\n",
    "freq_map = piano_note_frequencies()\n",
    "\n",
    "def play_notes(stream: pyaudio.Stream, notes: str, length: float, tempo: int, sample_rate: int = 44100, amplitude: float = 1.0, pause_fraction: float = 0.5, max_pause_duration: float = 0.5, wave_func: Callable = sine_wave):\n",
    "    \"\"\"\n",
    "    Play a piano note given a set of parameters\n",
    "    :param stream: PyAudio stream object\n",
    "    :param notes: Notes to be played, separated by _, ended by - if not pause is added (e.g., 'C4-_Eb4_Gb4_A4')\n",
    "    :param length: Duration of the note in beats (e.g., 1.0 for a quarter note, 0.5 for an eighth note)\n",
    "    :param tempo: Tempo in beats per minute (BPM) for a quarter note\n",
    "    :param sample_rate: Samples per second (44100 is the default audio sample rate)\n",
    "    :param amplitude: Amplitude of the sound wave (0.0 to 1.0), 1.0 is the default amplitude\n",
    "    :pause_fraction: a fraction of the note length to use as the pause duration (default 0.1)\n",
    "    :max_pause_duration: a maximum duration for the pause (default 0.5 seconds)\n",
    "    :return: None\n",
    "    \"\"\"\n",
    "    duration = length*60.0/tempo\n",
    "    pause = min(max_pause_duration, duration * pause_fraction)\n",
    "    adjusted_duration = duration - pause\n",
    "    # go through notes\n",
    "    frequencies_main = []\n",
    "    frequencies_pause = []\n",
    "    for note in notes.split(\"_\"):\n",
    "        extend = False\n",
    "        # extension flag\n",
    "        if note.endswith(\"-\"):\n",
    "            extend = True\n",
    "            # strip the extension flag\n",
    "            note = note[:-1]\n",
    "        if note not in freq_map:\n",
    "            if note == \"R\":\n",
    "                frequency = 0\n",
    "            else:\n",
    "                raise ValueError(f\"Invalid music note symbol: {note}\")\n",
    "        else:\n",
    "            frequencies_main.append(freq_map[note])\n",
    "            if extend:\n",
    "                frequencies_pause.append(freq_map[note])\n",
    "    if not frequencies_pause:\n",
    "        frequencies_pause.append(0)\n",
    "            \n",
    "    play_frequencies(stream, frequencies_main, adjusted_duration, sample_rate, amplitude, sine_wave)\n",
    "    play_frequencies(stream, frequencies_pause, pause, sample_rate, amplitude, wave_func)\n",
    "\n",
    "stream = start_play(sample_rate=44100)\n",
    "\n",
    "tempo = 90\n",
    "notes_all = [\"D4_D3-\",\"D4_D3-\",\"A4_F#3-\",\"A4_F#3-\",\"B4_G3-\",\"B4_G3-\",\"A4_D3\",\n",
    "         \"G4_G2-\",\"G4_G2-\",\"F#4_D3-\",\"F#4_D3-\",\"E4_A2-\",\"E4_A2-\",\"D4_D3\",\n",
    "         \"A4_D3-\",\"A4_D3-\",\"G4_A2-\",\"G4_A2-\",\"F#4_D3-\",\"F#4_D3-\",\"E4_A2\",\n",
    "         \"A4_D3-\",\"A4_D3-\",\"G4_A2-\",\"G4_A2-\",\"F#4_D3-\",\"F#4_D3-\",\"E4_A2\",\n",
    "         \"D4_D3-\",\"D4_D3-\",\"A4_F#3-\",\"A4_F#3-\",\"B4_G3-\",\"B4_G3-\",\"A4_D3\",\n",
    "         \"G4_G3\",\"G4_E3\",\"F#4_D3\",\"F#4_B2\",\"E4_C#3\",\"E4_A2\",\"D4_D3\",\n",
    "        ]\n",
    "lengths = [1,1,1,1,1,1,2,\n",
    "           1,1,1,1,1,1,2,\n",
    "           1,1,1,1,1,1,2,\n",
    "           1,1,1,1,1,1,2,\n",
    "           1,1,1,1,1,1,2,\n",
    "           1,1,1,1,1,1,2,\n",
    "          ]\n",
    "\n",
    "for notes, length in zip(notes_all, lengths):\n",
    "    play_notes(stream, notes, length, tempo)\n",
    "\n",
    "stop_play(stream)"
   ]
  },
  {
   "cell_type": "markdown",
   "id": "c9f48bee-48de-4922-a264-074ba51a7c4a",
   "metadata": {},
   "source": [
    "# Exercise 5d"
   ]
  },
  {
   "cell_type": "code",
   "execution_count": 60,
   "id": "2c748f2c-3dd8-4883-bda5-65f2ca5b0046",
   "metadata": {},
   "outputs": [
    {
     "data": {
      "text/plain": [
       "'ready'"
      ]
     },
     "execution_count": 60,
     "metadata": {},
     "output_type": "execute_result"
    }
   ],
   "source": [
    "class MusicNotePlayerV3(MusicNotePlayerV2b):\n",
    "    def __init__(self, tempo: int = 60, sample_rate: float = 44100, amplitude: float = 1.0, pause_fraction: float = 0.5, max_pause_duration: float = 0.5, wave_func: Callable = sine_wave):\n",
    "        super().__init__(tempo, sample_rate, amplitude, pause_fraction, max_pause_duration)\n",
    "        # add a new parameter for the wave func choice\n",
    "        self.wave_func = wave_func\n",
    "        \n",
    "    def play_notes(self, notes: str, length: float, transpose: int = 0):\n",
    "        duration = length*60.0/tempo\n",
    "        pause = min(self.max_pause_duration, duration * self.pause_fraction)\n",
    "        adjusted_duration = duration - pause\n",
    "        # go through notes\n",
    "        frequencies_main = []\n",
    "        frequencies_pause = []\n",
    "        for note in notes.split(\"_\"):\n",
    "            extend = False\n",
    "            # extension flag\n",
    "            if note.endswith(\"-\"):\n",
    "                extend = True\n",
    "                # strip the extension flag\n",
    "                note = note[:-1]\n",
    "            if note not in self.freq_map:\n",
    "                raise ValueError(f\"Invalid music note symbol: {note}\")\n",
    "            else:\n",
    "                frequency = self.freq_map[note]\n",
    "                # shift the frequency\n",
    "                frequency *= (2 ** (transpose / 12.0))\n",
    "                frequencies_main.append(frequency)\n",
    "                if extend:\n",
    "                    frequencies_pause.append(frequency)\n",
    "        if not frequencies_pause:\n",
    "            frequencies_pause.append(0)\n",
    "        \n",
    "        # check if stream is alive\n",
    "        if self._closed:\n",
    "            self.start()\n",
    "        play_frequencies(self.stream, frequencies_main, adjusted_duration, self.sample_rate, self.amplitude, self.wave_func)\n",
    "        play_frequencies(self.stream, frequencies_pause, pause, self.sample_rate, self.amplitude, self.wave_func)\n",
    "        \n",
    "    def play_score(self, score: str, transpose: int = 0):\n",
    "        for pair in score.split(\",\"):\n",
    "            try:\n",
    "                notes, length = pair.split(\"/\")\n",
    "            except:\n",
    "                raise ValueError(f\"cannot parse {pair}\")\n",
    "            self.play_notes(notes, float(length), transpose)\n",
    "'ready'"
   ]
  },
  {
   "cell_type": "code",
   "execution_count": 61,
   "id": "04bd5856-7639-4aff-9da6-393b9ac8ce45",
   "metadata": {},
   "outputs": [
    {
     "name": "stdout",
     "output_type": "stream",
     "text": [
      "Added to cache: D4_D3-/1,D4_D3-/1,A4_F#3-/1,A4_F#3-/1,B4_G3-/1,B4_G3-/1,A4_D3/2\n"
     ]
    },
    {
     "data": {
      "text/plain": [
       "'done'"
      ]
     },
     "execution_count": 61,
     "metadata": {},
     "output_type": "execute_result"
    }
   ],
   "source": [
    "transpose = 3\n",
    "with MusicNotePlayerV3(tempo=60) as p:\n",
    "    p.add_score(\"D4_D3-/1,D4_D3-/1,A4_F#3-/1,A4_F#3-/1,B4_G3-/1,B4_G3-/1,A4_D3/2\")\n",
    "    p.replay()\n",
    "    sleep(1)\n",
    "    p.replay(transpose=transpose)\n",
    "'done'"
   ]
  },
  {
   "cell_type": "markdown",
   "id": "cfc950b0-03ea-4ce7-ae29-f18472f71282",
   "metadata": {},
   "source": [
    "# Exercise 6a"
   ]
  },
  {
   "cell_type": "code",
   "execution_count": 73,
   "id": "b8718eec-dd49-43fd-bceb-483f36610904",
   "metadata": {},
   "outputs": [
    {
     "data": {
      "image/png": "[encoded data removed]",
      "text/plain": [
       "<Figure size 640x480 with 1 Axes>"
      ]
     },
     "metadata": {},
     "output_type": "display_data"
    }
   ],
   "source": [
    "import matplotlib.pyplot as plt\n",
    "duration = 1\n",
    "sample_rate = 44100\n",
    "t = np.linspace(0, duration, int(sample_rate * duration), endpoint=False)\n",
    "A4 = 440\n",
    "plt.figure()\n",
    "plt.plot(sine_wave(A4, t)[:1000])\n",
    "plt.plot(box_wave(A4, t)[:1000])\n",
    "plt.show()"
   ]
  },
  {
   "cell_type": "markdown",
   "id": "7f696c60-7f79-4f55-b6ee-ace31302fbb6",
   "metadata": {},
   "source": [
    "# Exercise 6b (old)"
   ]
  },
  {
   "cell_type": "code",
   "execution_count": 109,
   "id": "8c6d7739-9af9-4203-9349-b66d5f8bbf36",
   "metadata": {},
   "outputs": [
    {
     "data": {
      "text/plain": [
       "'done'"
      ]
     },
     "execution_count": 109,
     "metadata": {},
     "output_type": "execute_result"
    }
   ],
   "source": [
    "buffer = 1024\n",
    "sample_rate = 44100\n",
    "def start_record(sample_rate: float = 44100) -> pyaudio.Stream:\n",
    "    \"\"\"\n",
    "    :param sample_rate: samples per second (441000  is the common audio sample rate)\n",
    "    \"\"\"\n",
    "    # Initialize PyAudio\n",
    "    p = pyaudio.PyAudio()\n",
    "    \n",
    "    # Open audio stream\n",
    "    stream = p.open(format=pyaudio.paFloat32, # Use float32 format for audio data\n",
    "                    channels=1,               # Mono audio\n",
    "                    rate=sample_rate,         # Set up the sample rate\n",
    "                    input=True,\n",
    "                    frames_per_buffer=buffer)\n",
    "    return stream\n",
    "\n",
    "def stop_record(stream: pyaudio.Stream):\n",
    "    \"\"\"\n",
    "    Stop and close the PyAudio stream\n",
    "    :param stream: PyAudio stream object\n",
    "    :return: None\n",
    "    \"\"\"\n",
    "    p = stream._parent\n",
    "    stream.stop_stream()\n",
    "    stream.close()\n",
    "    p.terminate()\n",
    "\n",
    "def plot_wave(wave: np.ndarray):\n",
    "    pass\n",
    "\n",
    "record_length_secs = 1\n",
    "stream = start_record(sample_rate)\n",
    "frames = []\n",
    "for i in range(0, int(sample_rate / buffer * record_length_secs)):\n",
    "    data = stream.read(buffer, exception_on_overflow=False)\n",
    "    frames.append(data)\n",
    "stop_record(stream)\n",
    "'done'"
   ]
  },
  {
   "cell_type": "code",
   "execution_count": 110,
   "id": "7764a4fd-aad9-4deb-971a-946806e04b6c",
   "metadata": {
    "scrolled": true
   },
   "outputs": [
    {
     "name": "stdout",
     "output_type": "stream",
     "text": [
      "43\n",
      "Float32 value: from 0.0 to 0.0\n"
     ]
    },
    {
     "data": {
      "text/plain": [
       "[<matplotlib.lines.Line2D at 0x122b0e710>]"
      ]
     },
     "execution_count": 110,
     "metadata": {},
     "output_type": "execute_result"
    },
    {
     "data": {
      "image/png": "[encoded data removed]",
      "text/plain": [
       "<Figure size 640x480 with 1 Axes>"
      ]
     },
     "metadata": {},
     "output_type": "display_data"
    }
   ],
   "source": [
    "print(len(frames))\n",
    "byte_data = frames[-1]\n",
    "float_value = np.frombuffer(byte_data, dtype=np.float32)\n",
    "\n",
    "print(f\"Float32 value: from {np.min(float_value)} to {np.max(float_value)}\")\n",
    "plt.plot(float_value)"
   ]
  },
  {
   "cell_type": "markdown",
   "id": "4744035f-0081-4db3-a1d5-a1724a905a24",
   "metadata": {},
   "source": [
    "# Exercise 6b"
   ]
  },
  {
   "cell_type": "code",
   "execution_count": 103,
   "id": "ceb3ca41-896c-4d50-a76d-bb1b6f1d4443",
   "metadata": {},
   "outputs": [
    {
     "name": "stdout",
     "output_type": "stream",
     "text": [
      "Wave value: from -10705 to 10775\n"
     ]
    },
    {
     "data": {
      "text/plain": [
       "[<matplotlib.lines.Line2D at 0x122a6a990>]"
      ]
     },
     "execution_count": 103,
     "metadata": {},
     "output_type": "execute_result"
    },
    {
     "data": {
      "image/png": "[encoded data removed]",
      "text/plain": [
       "<Figure size 640x480 with 1 Axes>"
      ]
     },
     "metadata": {},
     "output_type": "display_data"
    }
   ],
   "source": [
    "import wave\n",
    "wf = wave.open(\"c1.wav\", \"rb\")\n",
    "byte_data = wf.readframes(buffer)\n",
    "float_value = np.frombuffer(byte_data, dtype=np.int16)\n",
    "\n",
    "print(f\"Wave value: from {np.min(float_value)} to {np.max(float_value)}\")\n",
    "plt.plot(float_value)"
   ]
  },
  {
   "cell_type": "code",
   "execution_count": null,
   "id": "337554f8-a49e-4480-8ba6-6fd97a5a0f26",
   "metadata": {},
   "outputs": [],
   "source": []
  }
 ],
 "metadata": {
  "kernelspec": {
   "display_name": "Python [conda env:base] *",
   "language": "python",
   "name": "conda-base-py"
  },
  "language_info": {
   "codemirror_mode": {
    "name": "ipython",
    "version": 3
   },
   "file_extension": ".py",
   "mimetype": "text/x-python",
   "name": "python",
   "nbconvert_exporter": "python",
   "pygments_lexer": "ipython3",
   "version": "3.13.5"
  }
 },
 "nbformat": 4,
 "nbformat_minor": 5
}
